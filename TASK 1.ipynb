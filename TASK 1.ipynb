{
 "cells": [
  {
   "cell_type": "markdown",
   "id": "private-martin",
   "metadata": {},
   "source": [
    "# Linear Regression Using Scikit Learn\n",
    "In this section we developed a machine learning   model for two variables .\n",
    "Which is simple linear regression model using scikit-learn and test its accuracy using given data."
   ]
  },
  {
   "cell_type": "markdown",
   "id": "confident-surgery",
   "metadata": {},
   "source": [
    "# Simple Linear Regression\n",
    "In this regression task we predict the percentage of marks obtained by student on the basis of how many hours he/she spend on study.ou model is simple linear model containing two variables"
   ]
  },
  {
   "cell_type": "code",
   "execution_count": 246,
   "id": "colored-situation",
   "metadata": {},
   "outputs": [],
   "source": [
    "# Importing all libraries required in this notebook\n",
    "import pandas as pd\n",
    "import numpy as np  \n",
    "import matplotlib.pyplot as plt\n",
    "import seaborn as sns\n",
    "import warnings \n",
    "warnings.filterwarnings('ignore')\n",
    "%matplotlib inline"
   ]
  },
  {
   "cell_type": "code",
   "execution_count": 247,
   "id": "fabulous-nightlife",
   "metadata": {
    "scrolled": true
   },
   "outputs": [
    {
     "name": "stdout",
     "output_type": "stream",
     "text": [
      "Data imported successfully\n"
     ]
    },
    {
     "data": {
      "text/html": [
       "<div>\n",
       "<style scoped>\n",
       "    .dataframe tbody tr th:only-of-type {\n",
       "        vertical-align: middle;\n",
       "    }\n",
       "\n",
       "    .dataframe tbody tr th {\n",
       "        vertical-align: top;\n",
       "    }\n",
       "\n",
       "    .dataframe thead th {\n",
       "        text-align: right;\n",
       "    }\n",
       "</style>\n",
       "<table border=\"1\" class=\"dataframe\">\n",
       "  <thead>\n",
       "    <tr style=\"text-align: right;\">\n",
       "      <th></th>\n",
       "      <th>Hours</th>\n",
       "      <th>Scores</th>\n",
       "    </tr>\n",
       "  </thead>\n",
       "  <tbody>\n",
       "    <tr>\n",
       "      <th>0</th>\n",
       "      <td>2.5</td>\n",
       "      <td>21</td>\n",
       "    </tr>\n",
       "    <tr>\n",
       "      <th>1</th>\n",
       "      <td>5.1</td>\n",
       "      <td>47</td>\n",
       "    </tr>\n",
       "    <tr>\n",
       "      <th>2</th>\n",
       "      <td>3.2</td>\n",
       "      <td>27</td>\n",
       "    </tr>\n",
       "    <tr>\n",
       "      <th>3</th>\n",
       "      <td>8.5</td>\n",
       "      <td>75</td>\n",
       "    </tr>\n",
       "    <tr>\n",
       "      <th>4</th>\n",
       "      <td>3.5</td>\n",
       "      <td>30</td>\n",
       "    </tr>\n",
       "    <tr>\n",
       "      <th>5</th>\n",
       "      <td>1.5</td>\n",
       "      <td>20</td>\n",
       "    </tr>\n",
       "    <tr>\n",
       "      <th>6</th>\n",
       "      <td>9.2</td>\n",
       "      <td>88</td>\n",
       "    </tr>\n",
       "    <tr>\n",
       "      <th>7</th>\n",
       "      <td>5.5</td>\n",
       "      <td>60</td>\n",
       "    </tr>\n",
       "    <tr>\n",
       "      <th>8</th>\n",
       "      <td>8.3</td>\n",
       "      <td>81</td>\n",
       "    </tr>\n",
       "    <tr>\n",
       "      <th>9</th>\n",
       "      <td>2.7</td>\n",
       "      <td>25</td>\n",
       "    </tr>\n",
       "  </tbody>\n",
       "</table>\n",
       "</div>"
      ],
      "text/plain": [
       "   Hours  Scores\n",
       "0    2.5      21\n",
       "1    5.1      47\n",
       "2    3.2      27\n",
       "3    8.5      75\n",
       "4    3.5      30\n",
       "5    1.5      20\n",
       "6    9.2      88\n",
       "7    5.5      60\n",
       "8    8.3      81\n",
       "9    2.7      25"
      ]
     },
     "execution_count": 247,
     "metadata": {},
     "output_type": "execute_result"
    }
   ],
   "source": [
    "# Reading data from remote link\n",
    "url = \"http://bit.ly/w-data\"\n",
    "s_data = pd.read_csv(url)\n",
    "print(\"Data imported successfully\")\n",
    "\n",
    "s_data.head(10)"
   ]
  },
  {
   "cell_type": "markdown",
   "id": "multiple-light",
   "metadata": {},
   "source": [
    "Checking is  Datasets contain any null values  using build in ptrhon functions."
   ]
  },
  {
   "cell_type": "code",
   "execution_count": 248,
   "id": "occupied-python",
   "metadata": {
    "scrolled": true
   },
   "outputs": [
    {
     "data": {
      "text/plain": [
       "Hours     0\n",
       "Scores    0\n",
       "dtype: int64"
      ]
     },
     "execution_count": 248,
     "metadata": {},
     "output_type": "execute_result"
    }
   ],
   "source": [
    "s_data.isnull().sum()"
   ]
  },
  {
   "cell_type": "markdown",
   "id": "nasty-patch",
   "metadata": {},
   "source": [
    "using info function we count tota number of non-null values in dataset separately"
   ]
  },
  {
   "cell_type": "code",
   "execution_count": 249,
   "id": "editorial-skirt",
   "metadata": {},
   "outputs": [
    {
     "name": "stdout",
     "output_type": "stream",
     "text": [
      "<class 'pandas.core.frame.DataFrame'>\n",
      "RangeIndex: 25 entries, 0 to 24\n",
      "Data columns (total 2 columns):\n",
      " #   Column  Non-Null Count  Dtype  \n",
      "---  ------  --------------  -----  \n",
      " 0   Hours   25 non-null     float64\n",
      " 1   Scores  25 non-null     int64  \n",
      "dtypes: float64(1), int64(1)\n",
      "memory usage: 528.0 bytes\n"
     ]
    }
   ],
   "source": [
    "s_data.info()"
   ]
  },
  {
   "cell_type": "raw",
   "id": "popular-machine",
   "metadata": {},
   "source": [
    "Using scatter plot function we plot 2D graph of dataset and find  an relationship between target variable with other variables manually using below code"
   ]
  },
  {
   "cell_type": "code",
   "execution_count": 250,
   "id": "appointed-location",
   "metadata": {},
   "outputs": [
    {
     "data": {
      "text/plain": [
       "Text(0.5, 1.0, 'Scatter plot of Hours vs Score')"
      ]
     },
     "execution_count": 250,
     "metadata": {},
     "output_type": "execute_result"
    },
    {
     "data": {
      "image/png": "[encoded data removed]",
      "text/plain": [
       "<Figure size 432x288 with 1 Axes>"
      ]
     },
     "metadata": {
      "needs_background": "light"
     },
     "output_type": "display_data"
    }
   ],
   "source": [
    "sns.scatterplot(data=s_data,x='Hours',y='Scores', color='r',s=100)\n",
    "plt.xlabel('Hours of Study')\n",
    "plt.ylabel('Score Obtained')\n",
    "plt.title('Scatter plot of Hours vs Score')"
   ]
  },
  {
   "cell_type": "markdown",
   "id": "private-horse",
   "metadata": {},
   "source": [
    "from above graph we can clealy say that their positive linear relation between hours and scores obtained."
   ]
  },
  {
   "cell_type": "markdown",
   "id": "appreciated-federal",
   "metadata": {},
   "source": [
    "# Preparing the Data"
   ]
  },
  {
   "cell_type": "markdown",
   "id": "removable-parker",
   "metadata": {},
   "source": [
    "Dividing Dataset into target variable and input variable "
   ]
  },
  {
   "cell_type": "code",
   "execution_count": 251,
   "id": "equipped-optimum",
   "metadata": {},
   "outputs": [],
   "source": [
    "X=s_data.iloc[:,:-1].values\n",
    "y=s_data.iloc[:,1].values"
   ]
  },
  {
   "cell_type": "raw",
   "id": "romance-hundred",
   "metadata": {},
   "source": [
    "As we have our attribute and label.we further split them into train and test set using scikit-learn buildin function train-test-split"
   ]
  },
  {
   "cell_type": "code",
   "execution_count": 252,
   "id": "unnecessary-brand",
   "metadata": {},
   "outputs": [],
   "source": [
    "from sklearn.model_selection import train_test_split\n",
    "x_train, x_test, y_train, y_test=train_test_split(X, y, test_size=0.2, random_state=0)"
   ]
  },
  {
   "cell_type": "markdown",
   "id": "distributed-taxation",
   "metadata": {},
   "source": [
    "Now as we splitted our data into train test next we train our model using linear regression algorithm"
   ]
  },
  {
   "cell_type": "code",
   "execution_count": 253,
   "id": "consolidated-launch",
   "metadata": {},
   "outputs": [
    {
     "name": "stdout",
     "output_type": "stream",
     "text": [
      "Training is completed\n"
     ]
    }
   ],
   "source": [
    "from sklearn.linear_model import LinearRegression\n",
    "lr=LinearRegression()\n",
    "lr.fit(x_train,y_train)\n",
    "print(\"Training is completed\")"
   ]
  },
  {
   "cell_type": "code",
   "execution_count": 254,
   "id": "suffering-protest",
   "metadata": {
    "scrolled": false
   },
   "outputs": [
    {
     "data": {
      "text/plain": [
       "[<matplotlib.lines.Line2D at 0x171aa070>]"
      ]
     },
     "execution_count": 254,
     "metadata": {},
     "output_type": "execute_result"
    },
    {
     "data": {
      "image/png": "[encoded data removed]",
      "text/plain": [
       "<Figure size 432x288 with 1 Axes>"
      ]
     },
     "metadata": {
      "needs_background": "light"
     },
     "output_type": "display_data"
    }
   ],
   "source": [
    "#plotting the regression line\n",
    "line=lr.coef_*X+lr.intercept_\n",
    "plt.scatter(X, y)\n",
    "plt.plot(X,line)"
   ]
  },
  {
   "cell_type": "markdown",
   "id": "separated-firmware",
   "metadata": {},
   "source": [
    "As we trained our model now time to make predictions"
   ]
  },
  {
   "cell_type": "code",
   "execution_count": 255,
   "id": "listed-penguin",
   "metadata": {},
   "outputs": [
    {
     "name": "stdout",
     "output_type": "stream",
     "text": [
      "[[1.5]\n",
      " [3.2]\n",
      " [7.4]\n",
      " [2.5]\n",
      " [5.9]]\n"
     ]
    }
   ],
   "source": [
    "print(x_test)\n",
    "y_pred=lr.predict(x_test)"
   ]
  },
  {
   "cell_type": "code",
   "execution_count": 256,
   "id": "incident-animation",
   "metadata": {},
   "outputs": [
    {
     "name": "stdout",
     "output_type": "stream",
     "text": [
      "[[1.9]]\n",
      "Predicted Score = [20.84840735]\n"
     ]
    }
   ],
   "source": [
    "import random\n",
    "a=random.choice(s_data['Hours']).reshape(-1,1)\n",
    "print(a)\n",
    "new_pred=lr.predict(a)\n",
    "print(\"Predicted Score = {}\".format(new_pred))"
   ]
  },
  {
   "cell_type": "code",
   "execution_count": 257,
   "id": "seven-pastor",
   "metadata": {},
   "outputs": [
    {
     "data": {
      "text/html": [
       "<div>\n",
       "<style scoped>\n",
       "    .dataframe tbody tr th:only-of-type {\n",
       "        vertical-align: middle;\n",
       "    }\n",
       "\n",
       "    .dataframe tbody tr th {\n",
       "        vertical-align: top;\n",
       "    }\n",
       "\n",
       "    .dataframe thead th {\n",
       "        text-align: right;\n",
       "    }\n",
       "</style>\n",
       "<table border=\"1\" class=\"dataframe\">\n",
       "  <thead>\n",
       "    <tr style=\"text-align: right;\">\n",
       "      <th></th>\n",
       "      <th>Actual</th>\n",
       "      <th>Predicted</th>\n",
       "    </tr>\n",
       "  </thead>\n",
       "  <tbody>\n",
       "    <tr>\n",
       "      <th>0</th>\n",
       "      <td>20</td>\n",
       "      <td>16.884145</td>\n",
       "    </tr>\n",
       "    <tr>\n",
       "      <th>1</th>\n",
       "      <td>27</td>\n",
       "      <td>33.732261</td>\n",
       "    </tr>\n",
       "    <tr>\n",
       "      <th>2</th>\n",
       "      <td>69</td>\n",
       "      <td>75.357018</td>\n",
       "    </tr>\n",
       "    <tr>\n",
       "      <th>3</th>\n",
       "      <td>30</td>\n",
       "      <td>26.794801</td>\n",
       "    </tr>\n",
       "    <tr>\n",
       "      <th>4</th>\n",
       "      <td>62</td>\n",
       "      <td>60.491033</td>\n",
       "    </tr>\n",
       "  </tbody>\n",
       "</table>\n",
       "</div>"
      ],
      "text/plain": [
       "   Actual  Predicted\n",
       "0      20  16.884145\n",
       "1      27  33.732261\n",
       "2      69  75.357018\n",
       "3      30  26.794801\n",
       "4      62  60.491033"
      ]
     },
     "execution_count": 257,
     "metadata": {},
     "output_type": "execute_result"
    }
   ],
   "source": [
    "df=pd.DataFrame({'Actual':y_test,'Predicted':y_pred})\n",
    "df"
   ]
  },
  {
   "cell_type": "markdown",
   "id": "connected-broadway",
   "metadata": {},
   "source": [
    "# Evaluating the model"
   ]
  },
  {
   "cell_type": "markdown",
   "id": "assigned-disco",
   "metadata": {},
   "source": [
    "As we have obtained some prediction.\n",
    "now its time to infer that how our prediction are differ from original values by using \n",
    "scikit learn metrics library we calculate it.\n",
    "here we used mean absolute error which calculate difference between predicted and original values sum them and take thier \n",
    "mean."
   ]
  },
  {
   "cell_type": "code",
   "execution_count": 258,
   "id": "joint-patrick",
   "metadata": {},
   "outputs": [
    {
     "name": "stdout",
     "output_type": "stream",
     "text": [
      "Mean Absolute Error: 4.183859899002975\n"
     ]
    }
   ],
   "source": [
    "from sklearn.metrics import mean_absolute_error\n",
    "acc=mean_absolute_error(y_pred,y_test)\n",
    "print('Mean Absolute Error:',acc)"
   ]
  },
  {
   "cell_type": "code",
   "execution_count": null,
   "id": "relative-point",
   "metadata": {},
   "outputs": [],
   "source": []
  },
  {
   "cell_type": "code",
   "execution_count": null,
   "id": "special-pressure",
   "metadata": {},
   "outputs": [],
   "source": []
  }
 ],
 "metadata": {
  "kernelspec": {
   "display_name": "Python 3",
   "language": "python",
   "name": "python3"
  },
  "language_info": {
   "codemirror_mode": {
    "name": "ipython",
    "version": 3
   },
   "file_extension": ".py",
   "mimetype": "text/x-python",
   "name": "python",
   "nbconvert_exporter": "python",
   "pygments_lexer": "ipython3",
   "version": "3.8.8"
  }
 },
 "nbformat": 4,
 "nbformat_minor": 5
}
